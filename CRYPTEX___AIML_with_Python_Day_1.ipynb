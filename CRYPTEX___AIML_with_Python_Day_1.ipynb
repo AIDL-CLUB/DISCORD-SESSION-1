{
  "nbformat": 4,
  "nbformat_minor": 0,
  "metadata": {
    "colab": {
      "provenance": [],
      "collapsed_sections": [
        "PUvcnZycCWC9",
        "KHWawApLdQed",
        "EGJ9Nfbp0qvL",
        "KVOHXDXfl6wS"
      ]
    },
    "kernelspec": {
      "name": "python3",
      "display_name": "Python 3"
    },
    "language_info": {
      "name": "python"
    }
  },
  "cells": [
    {
      "cell_type": "markdown",
      "source": [
        "# The Absolute Basics"
      ],
      "metadata": {
        "id": "PUvcnZycCWC9"
      }
    },
    {
      "cell_type": "markdown",
      "source": [
        "\n",
        "**Hello World**\n",
        "\n",
        "Let us start with the very first program that most programmers start with in any language."
      ],
      "metadata": {
        "id": "ihJJgzohBjVY"
      }
    },
    {
      "cell_type": "code",
      "execution_count": null,
      "metadata": {
        "id": "hmmVK4ofAp5c"
      },
      "outputs": [],
      "source": [
        "print(\"hello world\")"
      ]
    },
    {
      "cell_type": "markdown",
      "source": [
        "That was short and easy right? This is the power of Python. It makes the code much more concise and easy to read, making it easy to learn when compared to other high level languages like Java or C#."
      ],
      "metadata": {
        "id": "WHS7NlWKDBAA"
      }
    },
    {
      "cell_type": "markdown",
      "source": [
        "**Variables**\n",
        "\n",
        "Variable can be thought of as containers that store data."
      ],
      "metadata": {
        "id": "mqzvTa5BGaqP"
      }
    },
    {
      "cell_type": "code",
      "source": [
        "x = 5\n",
        "y = \"Apple\"\n",
        "print(x)\n",
        "print(y)"
      ],
      "metadata": {
        "id": "LXhfKKvmGZ7B"
      },
      "execution_count": null,
      "outputs": []
    },
    {
      "cell_type": "markdown",
      "source": [
        "**Data Types**\n",
        "\n",
        "There are many types of data predefined in Python, the most common ones being:\n",
        "\n",
        "\n",
        "*   int\n",
        "*   float\n",
        "*   str\n",
        "*   bool\n",
        "\n"
      ],
      "metadata": {
        "id": "6fFL_atpED46"
      }
    },
    {
      "cell_type": "code",
      "source": [
        "x = 5\n",
        "y = \"Apple\"\n",
        "z = 5.23\n",
        "print(x)\n",
        "print(y)\n",
        "print(z)\n",
        "print(type(x))\n",
        "print(type(y))\n",
        "print(type(z))"
      ],
      "metadata": {
        "id": "S1cTv7hMEDGF"
      },
      "execution_count": null,
      "outputs": []
    },
    {
      "cell_type": "markdown",
      "source": [
        "You can also set a string as a variable to be a specific data type."
      ],
      "metadata": {
        "id": "bcIirrSaF82u"
      }
    },
    {
      "cell_type": "code",
      "source": [
        "x = int(5)\n",
        "y = str(5)\n",
        "z = float(5)\n",
        "print(x)\n",
        "print(y)\n",
        "print(z)\n",
        "print(type(x))\n",
        "print(type(y))\n",
        "print(type(z))"
      ],
      "metadata": {
        "id": "KB42yxC8F2Mt"
      },
      "execution_count": null,
      "outputs": []
    },
    {
      "cell_type": "markdown",
      "source": [
        "**Sequential Data**\n",
        "\n",
        "When we want to store multipe data items in a single variable, we can use special data types. The four data types that do this are:\n",
        "*    List\n",
        "*    Tuple\n",
        "*    Set\n",
        "*    Dictionary\n",
        "\n",
        "All four, while carry out the basic function of storing multiple data in a single variable, handle it slightly different manner."
      ],
      "metadata": {
        "id": "IsFUF8LJHIzn"
      }
    },
    {
      "cell_type": "markdown",
      "source": [
        "**Lists**\n",
        "\n",
        "Lists are declared using square brackets.\n",
        "\n",
        "\n",
        "```\n",
        "list = []\n",
        "```\n",
        "Above is the declaration of an empty list.\n",
        "\n",
        "List items are ordered, changeable, and allow duplicate values. Let us understand what each of these words mean.\n",
        "\n",
        "When we say that lists are ordered, it means that the items have a defined order, and that order will not change. If you add new items to a list, the new items will be placed at the end of the list.\n",
        "\n",
        "The list is changeable, meaning that we can change, add, and remove items in a list after it has been created.\n",
        "\n",
        "Finally, since lists are indexed, lists can have items with the same value.\n"
      ],
      "metadata": {
        "id": "5xD8hT9LSt8M"
      }
    },
    {
      "cell_type": "code",
      "source": [
        "list = [\"apple\", \"red\", 5, 3.14]\n",
        "print(list)\n",
        "print(list[1])"
      ],
      "metadata": {
        "id": "zX3yVskVULi6"
      },
      "execution_count": null,
      "outputs": []
    },
    {
      "cell_type": "markdown",
      "source": [
        "**Tuples**\n",
        "\n",
        "Tuples are declared using parentheses.\n",
        "\n",
        "\n",
        "```\n",
        "mytuple = (\"apple\", \"red\", 5, 3.14)\n",
        "```\n",
        "Above is the declaration of a tuple.\n",
        "\n",
        "Tuple items are ordered, unchangeable, and allow duplicate values.\n",
        "\n",
        " Tuples are ordered, that meaning that the items have a defined order, and that order will not change.\n",
        "\n",
        " Tuples are unchangeable, meaning that we cannot change, add or remove items after the tuple has been created. This means that items cannot be added or removed from a tuple once the tuple is created. Additionally, you can't modify the items in the tuple. There are some workarounds though, like changing a tuple to a list, then editing the list, and finally, changing it back to a tuple.\n",
        "\n",
        " Lastly, since tuples are indexed, they can have items with the same value."
      ],
      "metadata": {
        "id": "MlN47fk5UgGO"
      }
    },
    {
      "cell_type": "code",
      "source": [
        "tuple = (\"apple\", \"red\", 5, 3.14)\n",
        "print(tuple)\n",
        "print(tuple[1])"
      ],
      "metadata": {
        "id": "T0GBWUidWIsk"
      },
      "execution_count": null,
      "outputs": []
    },
    {
      "cell_type": "markdown",
      "source": [
        "**Sets**\n",
        "\n",
        "Sets are declares using curly brackets.\n",
        "\n",
        "\n",
        "\n",
        "```\n",
        "set = {\"apple\", \"red\", 5, 3.14}\n",
        "```\n",
        "The above is the declaration of a set.\n",
        "\n",
        "Set items are unordered, unchangeable, and unindexed.\n",
        "\n",
        "Set items are unordered meaning that the items in a set do not have a defined order. This emans that set items can appear in a different order every time you use them.\n",
        "\n",
        "Set items are unchangeable, meaning that we cannot change the items after the set has been created. Unlike a set though, the preexisting items in a set can be modified.\n",
        "\n",
        "Since sets are unordered, duplicates are not allowed."
      ],
      "metadata": {
        "id": "adxp-kAqWaZZ"
      }
    },
    {
      "cell_type": "code",
      "source": [
        "set = {\"apple\", \"red\", 5, 3.14}\n",
        "print(set)"
      ],
      "metadata": {
        "id": "wFLwPV8wYKRp"
      },
      "execution_count": null,
      "outputs": []
    },
    {
      "cell_type": "markdown",
      "source": [
        "**Dictionaries**\n",
        "\n",
        "Dictionaries store data values in key:value pairs. Dictionaries are written with curly brackets, and have keys and values.\n",
        "\n",
        "\n",
        "```\n",
        "dict = {\n",
        "    \"Fruit\" : \"apple\",\n",
        "    \"Colour\" : \"red\",\n",
        "    \"Weight\" : 5,\n",
        "    \"Price\" : 3.14\n",
        "}\n",
        "```\n",
        "Dictionary items are ordered, changeable, and does not allow duplicates.\n",
        "\n",
        "Dictionaries are ordered, it means that the items have a defined order, and that order will not change.\n",
        "\n",
        "Dictionaries are changeable, meaning that we can change, add or remove items after the dictionary has been created.\n",
        "\n",
        "Dictionaries cannot have two items with the same key.\n"
      ],
      "metadata": {
        "id": "tdR2hmvMYkUn"
      }
    },
    {
      "cell_type": "code",
      "source": [
        "dict = {\n",
        "    \"Fruit\" : \"apple\",\n",
        "    \"Colour\" : \"red\",\n",
        "    \"Weight\" : 5,\n",
        "    \"Price\" : 3.14\n",
        "}\n",
        "print(dict)\n",
        "print(dict[\"Fruit\"])"
      ],
      "metadata": {
        "id": "cZBM3pUUYjOl"
      },
      "execution_count": null,
      "outputs": []
    },
    {
      "cell_type": "markdown",
      "source": [
        "Now that the absoute basics of python are covered, let move onto something more interesting."
      ],
      "metadata": {
        "id": "FDXNJF3AckBe"
      }
    },
    {
      "cell_type": "markdown",
      "source": [
        "# Conditional Statments"
      ],
      "metadata": {
        "id": "KHWawApLdQed"
      }
    },
    {
      "cell_type": "markdown",
      "source": [
        "Conditional statments are those statments that are check to see is a condition is satisfied or not, and execute blocks of code accordingly.\n",
        "\n",
        "First, let us cover the **mathematical statements**-\n",
        "*  Equals : a == b\n",
        "*  Not Equals : a != b\n",
        "*  Less than : a < b\n",
        "*  Less than or equal to : a <= b\n",
        "*  Greater than : a > b\n",
        "*  Greater than or equal to : a >= b\n",
        "\n",
        "Next, let us cover the **logical statements**-\n",
        "*  Check if two or more statments are true : and\n",
        "*  Check if one or more statments are true : or\n",
        "*  Invert the value of a statment : not\n",
        "\n",
        "Finally, the **if ....else statement**-\n",
        "\n",
        "The **if statement** checks to see if a statement is true or false. If true, it will execute a block of code.\n",
        "\n",
        "```\n",
        "a = 5\n",
        "b = 10\n",
        "if a > b:\n",
        "  print(\" a is grater than b\")\n",
        "```\n",
        "The **else statement** is use to declare a block of code that will be execute if a contitional statement is false.\n",
        "```\n",
        "a = 5\n",
        "b = 10\n",
        "if a > b:\n",
        "  print(\" a is grater than b\")\n",
        "else:\n",
        "  print(\"b is greater than a\")\n",
        "```\n",
        "Lastly the **elif statement** is used when one wants to make an if-else ladder\n",
        "```\n",
        "a = 5\n",
        "b = 10\n",
        "if a > b:\n",
        "  print(\" a is grater than b\")\n",
        "elif:\n",
        "  print(\"b is greater than a\")\n",
        "else:\n",
        "  print(\"the numbers are equal\")\n",
        "```\n",
        "Let us put together everything we learnt about conditional statements into practice with the help of a few examples."
      ],
      "metadata": {
        "id": "RwdsN6WbdbFT"
      }
    },
    {
      "cell_type": "code",
      "source": [
        "a = 5\n",
        "b = 10\n",
        "if a > b:\n",
        "  print(\" a is grater than b\")\n",
        "else:\n",
        "  print(\"b is greater than a\")"
      ],
      "metadata": {
        "id": "20CoZxQhel96"
      },
      "execution_count": null,
      "outputs": []
    },
    {
      "cell_type": "code",
      "source": [
        "a = 5\n",
        "b = 5\n",
        "if a > b:\n",
        "  print(\" a is grater than b\")\n",
        "elif a < b:\n",
        "  print(\"b is greater than a\")\n",
        "else:\n",
        "  print(\"the numbers are equal\")"
      ],
      "metadata": {
        "id": "xIjwWKUwjdNL"
      },
      "execution_count": null,
      "outputs": []
    },
    {
      "cell_type": "code",
      "source": [
        "a = 10\n",
        "b = 5\n",
        "c = 7\n",
        "if a > b and a > c:\n",
        "  print(\"a is the greatest number\")\n",
        "elif a > b and a < c:\n",
        "  print(\"c is the greatest number\")\n",
        "elif a < b and a > c:\n",
        "  print(\"b is the greatest number\")\n",
        "else:\n",
        "  print(\"two or more numbers are equal\")\n"
      ],
      "metadata": {
        "id": "LV77M4zrkW9a"
      },
      "execution_count": null,
      "outputs": []
    },
    {
      "cell_type": "code",
      "source": [
        "# You can try out more examples here."
      ],
      "metadata": {
        "id": "enJ8hfI2lgoi"
      },
      "execution_count": null,
      "outputs": []
    },
    {
      "cell_type": "markdown",
      "source": [
        "**Note:** The '#' symbol is used to denote that the line is a comment in python."
      ],
      "metadata": {
        "id": "Ai_FtbJDlmdv"
      }
    },
    {
      "cell_type": "markdown",
      "source": [
        "# Loops"
      ],
      "metadata": {
        "id": "EGJ9Nfbp0qvL"
      }
    },
    {
      "cell_type": "markdown",
      "source": [
        "Loops are used to iterate over a certain block of code for fixed number of times.\n",
        "\n",
        "Python has two primitive loop commands:\n",
        "\n",
        "*  while loops\n",
        "*  for loops\n",
        "\n",
        "**While Loop**\n",
        "\n",
        "With the while loop we can execute a set of statements as long as a condition is true.\n",
        "\n",
        "```\n",
        "i = 1\n",
        "while i < 6:\n",
        "  print(i)\n",
        "  i += 1\n",
        "```\n",
        "**Note:** Remember to set an end point for the loop or the loop with continue till the program is terminated.\n"
      ],
      "metadata": {
        "id": "aKm2t_2S0wpq"
      }
    },
    {
      "cell_type": "code",
      "source": [
        "i = 1\n",
        "while i < 6:\n",
        "  print(i)\n",
        "  i += 1"
      ],
      "metadata": {
        "id": "I0PzBcQN1kNA"
      },
      "execution_count": null,
      "outputs": []
    },
    {
      "cell_type": "markdown",
      "source": [
        "**Break Statment**\n",
        "\n",
        "With the break statement we can stop the loop even if the while condition.\n"
      ],
      "metadata": {
        "id": "-xLRYfKQ1qw4"
      }
    },
    {
      "cell_type": "code",
      "source": [
        "i = 1\n",
        "while i < 6:\n",
        "  print(i)\n",
        "  if i == 3:\n",
        "    break\n",
        "  i += 1"
      ],
      "metadata": {
        "id": "lU-0Vkoo2GEG"
      },
      "execution_count": null,
      "outputs": []
    },
    {
      "cell_type": "markdown",
      "source": [
        "**Continue Statement**\n",
        "\n",
        "Using the continue statement we can stop the current iteration, and continue with the next."
      ],
      "metadata": {
        "id": "UpKAobkm2IIt"
      }
    },
    {
      "cell_type": "code",
      "source": [
        "i = 0\n",
        "while i < 10:\n",
        "  i += 1\n",
        "  if i % 2 == 0:\n",
        "    continue\n",
        "  print(i)"
      ],
      "metadata": {
        "id": "029lvqUD2WMJ"
      },
      "execution_count": null,
      "outputs": []
    },
    {
      "cell_type": "markdown",
      "source": [
        "**Else Statement**\n",
        "\n",
        "The else statement we can run a block of code once when the condition no longer is true."
      ],
      "metadata": {
        "id": "Yg2bd9Af2iZw"
      }
    },
    {
      "cell_type": "code",
      "source": [
        "i = 1\n",
        "while i < 6:\n",
        "  print(i)\n",
        "  i += 1\n",
        "else:\n",
        "  print(\"i is no longer less than 6\")"
      ],
      "metadata": {
        "id": "m0gvMyGP4IWU"
      },
      "execution_count": null,
      "outputs": []
    },
    {
      "cell_type": "markdown",
      "source": [
        "**For Loops**\n",
        "\n",
        "For loop is used for iterating over a sequence (that is either a list, a tuple, a dictionary, a set, or a string).\n",
        "\n",
        "Unlike other programming languages, pythons for loops are used to iterate over a sequence."
      ],
      "metadata": {
        "id": "aTkGbxBi4XdP"
      }
    },
    {
      "cell_type": "code",
      "source": [
        "fruits = [\"apple\", \"red\", 5, 3.14]\n",
        "for x in fruits:\n",
        "  print(x)"
      ],
      "metadata": {
        "id": "hXAK_zxY5C3Y"
      },
      "execution_count": null,
      "outputs": []
    },
    {
      "cell_type": "markdown",
      "source": [
        "**The range() Function**\n",
        "\n",
        "To loop through a set of code a specified number of times, we can use the range() function. It returns a sequence of numbers, starting from 0 by default, and increments by 1 (by default), and ends at a specified number.\n",
        "\n",
        "```\n",
        "for x in range(6):\n",
        "  print(x)\n",
        "```\n",
        "**Note:** range(6) is not the values of 0 to 6, but the values 0 to 5.\n",
        "\n",
        "The range() function defaults to 0 as a starting value, however it is possible to specify the starting value by adding a parameter\n",
        "\n",
        "```\n",
        "for x in range(2, 6):\n",
        "  print(x)\n",
        "```\n",
        "The range() function defaults to increment the sequence by 1, however it is possible to specify the increment value by adding a third parameter.\n",
        "\n",
        "\n",
        "```\n",
        "for x in range(2, 30, 3):\n",
        "  print(x)\n",
        "```"
      ],
      "metadata": {
        "id": "NykFLf7Q7U0c"
      }
    },
    {
      "cell_type": "code",
      "source": [
        "for x in range(2, 30, 3):\n",
        "  print(x)"
      ],
      "metadata": {
        "id": "DKNNaOAK8PF4"
      },
      "execution_count": null,
      "outputs": []
    },
    {
      "cell_type": "markdown",
      "source": [
        "# Functions"
      ],
      "metadata": {
        "id": "KVOHXDXfl6wS"
      }
    },
    {
      "cell_type": "markdown",
      "source": [
        "A function is a block of code which only runs when it is called.You can pass data, known as parameters, into a function.A function may or may not return data as a result.\n",
        "\n",
        "\n",
        "```\n",
        "print(\"Hello World\")\n",
        "```\n",
        "In the above code, print is an example of a function, while \"Hello World\" is the argument passsed to that function.\n",
        "\n",
        "Functions can be generally be classified into two categories:\n",
        "*  Library defined functions\n",
        "*  User defined functions\n",
        "\n",
        "**Library Defined Functions**\n",
        "\n",
        "Library Defined Functions are those functions that are predefined in the programming language i.e. they can be used without defining the function.\n",
        "Some common examples of library defined functions are:\n",
        "* print()\n",
        "* input()\n",
        "* range()\n",
        "* sorted()\n",
        "* append()\n",
        "* lower()\n",
        "* upper()\n"
      ],
      "metadata": {
        "id": "cDscNt7-mGyh"
      }
    },
    {
      "cell_type": "code",
      "source": [
        "name = input(\"What is your name? \")\n",
        "print(\"Hello \"+name+\", I am Python.\")"
      ],
      "metadata": {
        "id": "HxyIOX76mDd4"
      },
      "execution_count": null,
      "outputs": []
    },
    {
      "cell_type": "code",
      "source": [
        "list = [\"apple\", \"dog\",\"cat\", \"ball\"]\n",
        "print(list)\n",
        "list.append(\"elf\")\n",
        "print(list)\n",
        "print(sorted(list))"
      ],
      "metadata": {
        "id": "ALQwOAWnyUOy"
      },
      "execution_count": null,
      "outputs": []
    },
    {
      "cell_type": "code",
      "source": [
        "lang = \"Python\"\n",
        "print(lang)\n",
        "print(lang.upper())\n",
        "print(lang.lower())"
      ],
      "metadata": {
        "id": "6hBKyr9s9pgj"
      },
      "execution_count": null,
      "outputs": []
    },
    {
      "cell_type": "markdown",
      "source": [
        "**User Defined Functions**\n",
        "\n",
        "Functions that are defined by the programmer are user defined functions. They may or may not take arguments."
      ],
      "metadata": {
        "id": "d1rc27yy_0p2"
      }
    },
    {
      "cell_type": "code",
      "source": [
        "def myfun():\n",
        "  print(\"This is my funtcion\")\n",
        "\n",
        "myfun()"
      ],
      "metadata": {
        "id": "vagAKSOTBIjg"
      },
      "execution_count": null,
      "outputs": []
    },
    {
      "cell_type": "code",
      "source": [
        "def palchk(a):\n",
        "  b = a[::-1]\n",
        "  if a==b:\n",
        "    print(\"String is a palindrome\")\n",
        "  else:\n",
        "    print(\"String is not a palindrome\")\n",
        "\n",
        "s = input(\"Enter a string \")\n",
        "palchk(s)"
      ],
      "metadata": {
        "id": "rx-iLJm-JdWZ"
      },
      "execution_count": null,
      "outputs": []
    },
    {
      "cell_type": "markdown",
      "source": [
        "# File Handling"
      ],
      "metadata": {
        "id": "oneOT1XSLWJs"
      }
    },
    {
      "cell_type": "markdown",
      "source": [
        "File handling is an important part of any application.\n",
        "\n",
        "Python has several functions for creating, reading, updating, and deleting files.\n",
        "\n",
        "The key function for working with files in Python is the open() function.\n",
        "\n",
        "The open() function takes two parameters; filename, and mode.\n",
        "\n",
        "There are four different methods (modes) for opening a file:\n",
        "*  \"r\" - Read - Default value. Opens a file for reading, error if the file does not exist.\n",
        "\n",
        "*  \"a\" - Append - Opens a file for appending, creates the file if it does not exist.\n",
        "\n",
        "*  \"w\" - Write - Opens a file for writing, creates the file if it does not exist.\n",
        "\n",
        "*  \"x\" - Create - Creates the specified file, returns an error if the file exists.\n",
        "\n",
        "```\n",
        "f = open(\"demofile.txt\", \"r\")\n",
        "a = f.read()\n",
        "print(a)\n",
        "```\n",
        "The above code will open a file named demofile.txt in read mode. Next it will read through all the contents of the file and copy it into variable a. Finally, it will print the contents of the variable.\n",
        "\n",
        "That is all for theory of python. Now letts us move onto some practical examples."
      ],
      "metadata": {
        "id": "HGC1pYdQLaKU"
      }
    }
  ]
}